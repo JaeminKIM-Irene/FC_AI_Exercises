{
  "nbformat": 4,
  "nbformat_minor": 0,
  "metadata": {
    "colab": {
      "provenance": []
    },
    "kernelspec": {
      "name": "python3",
      "display_name": "Python 3"
    },
    "language_info": {
      "name": "python"
    }
  },
  "cells": [
    {
      "cell_type": "markdown",
      "source": [
        "## Process\n",
        "  1. Define X's & Y\n",
        "  2. Split Train & Valid dataset\n",
        "  3. Modeling\n",
        "  4. Model 해석"
      ],
      "metadata": {
        "id": "gHimmkf0iGJK"
      }
    },
    {
      "cell_type": "code",
      "execution_count": null,
      "metadata": {
        "id": "9a_qPcc8es3U"
      },
      "outputs": [],
      "source": [
        "# Package\n",
        "import numpy as np\n",
        "import pandas as pd\n",
        "from sklearn.model_selection import train_test_split\n",
        "from sklearn.linear_model import Lasso, LassoCV\n",
        "from sklearn.model_selection import GridSearchCV\n",
        "from sklearn.preprocessing import MinMaxScaler\n",
        "from sklearn.metrics import mean_squared_error\n",
        "\n",
        "import warnings\n",
        "warnings.filterwarnings(\"ignore\")\n",
        "\n",
        "# Sklearn Toy Data\n",
        "from sklearn.datasets import load_diabetes"
      ]
    },
    {
      "cell_type": "code",
      "source": [
        "# Functions for Statistics\n",
        "import scipy\n",
        "from sklearn import metrics\n",
        "\n",
        "def sse(clf, X, y):\n",
        "    \"\"\"Calculate the standard squared error of the model.\n",
        "    Parameters\n",
        "    ----------\n",
        "    clf : sklearn.linear_model\n",
        "        A scikit-learn linear model classifier with a `predict()` method.\n",
        "    X : numpy.ndarray\n",
        "        Training data used to fit the classifier.\n",
        "    y : numpy.ndarray\n",
        "        Target training values, of shape = [n_samples].\n",
        "    Returns\n",
        "    -------\n",
        "    float\n",
        "        The standard squared error of the model.\n",
        "    \"\"\"\n",
        "    y_hat = clf.predict(X)\n",
        "    sse = np.sum((y_hat - y) ** 2)\n",
        "    return sse / X.shape[0]\n",
        "\n",
        "\n",
        "def adj_r2_score(clf, X, y):\n",
        "    \"\"\"Calculate the adjusted :math:`R^2` of the model.\n",
        "    Parameters\n",
        "    ----------\n",
        "    clf : sklearn.linear_model\n",
        "        A scikit-learn linear model classifier with a `predict()` method.\n",
        "    X : numpy.ndarray\n",
        "        Training data used to fit the classifier.\n",
        "    y : numpy.ndarray\n",
        "        Target training values, of shape = [n_samples].\n",
        "    Returns\n",
        "    -------\n",
        "    float\n",
        "        The adjusted :math:`R^2` of the model.\n",
        "    \"\"\"\n",
        "    n = X.shape[0]  # Number of observations\n",
        "    p = X.shape[1]  # Number of features\n",
        "    r_squared = metrics.r2_score(y, clf.predict(X))\n",
        "    return 1 - (1 - r_squared) * ((n - 1) / (n - p - 1))\n",
        "\n",
        "\n",
        "def coef_se(clf, X, y):\n",
        "    \"\"\"Calculate standard error for beta coefficients.\n",
        "    Parameters\n",
        "    ----------\n",
        "    clf : sklearn.linear_model\n",
        "        A scikit-learn linear model classifier with a `predict()` method.\n",
        "    X : numpy.ndarray\n",
        "        Training data used to fit the classifier.\n",
        "    y : numpy.ndarray\n",
        "        Target training values, of shape = [n_samples].\n",
        "    Returns\n",
        "    -------\n",
        "    numpy.ndarray\n",
        "        An array of standard errors for the beta coefficients.\n",
        "    \"\"\"\n",
        "    n = X.shape[0]\n",
        "    X1 = np.hstack((np.ones((n, 1)), np.matrix(X)))\n",
        "    se_matrix = scipy.linalg.sqrtm(\n",
        "        metrics.mean_squared_error(y, clf.predict(X)) *\n",
        "        np.linalg.inv(X1.T * X1)\n",
        "    )\n",
        "    return np.diagonal(se_matrix)\n",
        "\n",
        "\n",
        "def coef_tval(clf, X, y):\n",
        "    \"\"\"Calculate t-statistic for beta coefficients.\n",
        "    Parameters\n",
        "    ----------\n",
        "    clf : sklearn.linear_model\n",
        "        A scikit-learn linear model classifier with a `predict()` method.\n",
        "    X : numpy.ndarray\n",
        "        Training data used to fit the classifier.\n",
        "    y : numpy.ndarray\n",
        "        Target training values, of shape = [n_samples].\n",
        "    Returns\n",
        "    -------\n",
        "    numpy.ndarray\n",
        "        An array of t-statistic values.\n",
        "    \"\"\"\n",
        "    a = np.array(clf.intercept_ / coef_se(clf, X, y)[0])\n",
        "    b = np.array(clf.coef_ / coef_se(clf, X, y)[1:])\n",
        "    return np.append(a, b)\n",
        "\n",
        "\n",
        "def coef_pval(clf, X, y):\n",
        "    \"\"\"Calculate p-values for beta coefficients.\n",
        "    Parameters\n",
        "    ----------\n",
        "    clf : sklearn.linear_model\n",
        "        A scikit-learn linear model classifier with a `predict()` method.\n",
        "    X : numpy.ndarray\n",
        "        Training data used to fit the classifier.\n",
        "    y : numpy.ndarray\n",
        "        Target training values, of shape = [n_samples].\n",
        "    Returns\n",
        "    -------\n",
        "    numpy.ndarray\n",
        "        An array of p-values.\n",
        "    \"\"\"\n",
        "    n = X.shape[0]\n",
        "    t = coef_tval(clf, X, y)\n",
        "    p = 2 * (1 - scipy.stats.t.cdf(abs(t), n - 1))\n",
        "    return p\n",
        "\n",
        "def summary(clf, X, y, xlabels=None):\n",
        "    \"\"\"\n",
        "    Output summary statistics for a fitted regression model.\n",
        "    Parameters\n",
        "    ----------\n",
        "    clf : sklearn.linear_model\n",
        "        A scikit-learn linear model classifier with a `predict()` method.\n",
        "    X : numpy.ndarray\n",
        "        Training data used to fit the classifier.\n",
        "    y : numpy.ndarray\n",
        "        Target training values, of shape = [n_samples].\n",
        "    xlabels : list, tuple\n",
        "        The labels for the predictors.\n",
        "    \"\"\"\n",
        "    # Check and/or make xlabels\n",
        "    ncols = X.shape[1]\n",
        "    if xlabels is None:\n",
        "        xlabels = np.array(\n",
        "            ['x{0}'.format(i) for i in range(1, ncols + 1)], dtype='str')\n",
        "    elif isinstance(xlabels, (tuple, list)):\n",
        "        xlabels = np.array(xlabels, dtype='str')\n",
        "    # Make sure dims of xlabels matches dims of X\n",
        "    if xlabels.shape[0] != ncols:\n",
        "        raise AssertionError(\n",
        "            \"Dimension of xlabels {0} does not match \"\n",
        "            \"X {1}.\".format(xlabels.shape, X.shape))\n",
        "    # Create data frame of coefficient estimates and associated stats\n",
        "    coef_df = pd.DataFrame(\n",
        "        index=['_intercept'] + list(xlabels),\n",
        "        columns=['Estimate', 'Std. Error', 't value', 'p value']\n",
        "    )\n",
        "    try:\n",
        "        coef_df['Estimate'] = np.concatenate(\n",
        "            (np.round(np.array([clf.intercept_]), 6), np.round((clf.coef_), 6)))\n",
        "    except Exception as e:\n",
        "        coef_df['Estimate'] = np.concatenate(\n",
        "            (\n",
        "                np.round(np.array([clf.intercept_]), 6),\n",
        "                np.round((clf.coef_), 6)\n",
        "            ), axis = 1\n",
        "    )[0,:]\n",
        "    coef_df['Std. Error'] = np.round(coef_se(clf, X, y), 6)\n",
        "    coef_df['t value'] = np.round(coef_tval(clf, X, y), 4)\n",
        "    coef_df['p value'] = np.round(coef_pval(clf, X, y), 6)\n",
        "    # Output results\n",
        "    print('Coefficients:')\n",
        "    print(coef_df.to_string(index=True))\n",
        "    print('---')\n",
        "    print('R-squared:  {0:.6f},    Adjusted R-squared:  {1:.6f},    MSE: {2:.1f}'.format(\n",
        "        metrics.r2_score(y, clf.predict(X)), adj_r2_score(clf, X, y), sse(clf, X, y)))"
      ],
      "metadata": {
        "id": "E9DMr_kOjlTp"
      },
      "execution_count": null,
      "outputs": []
    },
    {
      "cell_type": "code",
      "source": [
        "# Data Loading - Diabetes\n",
        "data = pd.read_csv('https://www4.stat.ncsu.edu/~boos/var.select/diabetes.tab.txt', sep='\\t')"
      ],
      "metadata": {
        "id": "_2zsLK08ia9K"
      },
      "execution_count": null,
      "outputs": []
    },
    {
      "cell_type": "code",
      "source": [
        "Y = data['Y']\n",
        "X = data.drop(columns=['Y'])\n",
        "X = pd.get_dummies(X, columns=['SEX'])"
      ],
      "metadata": {
        "id": "VJs1IrCIifQZ"
      },
      "execution_count": null,
      "outputs": []
    },
    {
      "cell_type": "code",
      "source": [
        "# index train과 valid로 나눔\n",
        "idx = list(range(X.shape[0]))\n",
        "train_idx, valid_idx = train_test_split(idx, test_size=0.3, random_state=2023)\n",
        "print(f'Train data : {len(train_idx)}')\n",
        "print(f'Test data : {len(valid_idx)}')"
      ],
      "metadata": {
        "id": "GT6MBFq8iiYB",
        "colab": {
          "base_uri": "https://localhost:8080/"
        },
        "outputId": "0082b083-f963-4703-ca92-4cb10a0dc2df"
      },
      "execution_count": null,
      "outputs": [
        {
          "output_type": "stream",
          "name": "stdout",
          "text": [
            "Train data : 309\n",
            "Test data : 133\n"
          ]
        }
      ]
    },
    {
      "cell_type": "code",
      "source": [
        "# Scaling\n",
        "scaler = MinMaxScaler().fit(X.iloc[train_idx])\n",
        "X_scale = scaler.transform(X)\n",
        "X_scale = pd.DataFrame(X_scale, columns=X.columns)"
      ],
      "metadata": {
        "id": "vjTvCCzKjBD6"
      },
      "execution_count": null,
      "outputs": []
    },
    {
      "cell_type": "markdown",
      "source": [
        "[LASSO Regression Parameters]\n",
        "  - Package : https://scikit-learn.org/stable/modules/generated/sklearn.linear_model.Lasso.html\n",
        "  - alpha : L1-norm Penalty Term\n",
        "    - alpha : 0 일 때, Just Linear Regression  \n",
        "  - fit_intercept : Centering to zero\n",
        "    - 베타0를 0로 보내는 것 (베타0는 상수이기 때문에)\n",
        "  - max_iter : Maximum number of interation\n",
        "    - Loss Function의 LASSO Penalty Term은 절대 값이기 때문에 Gradient Descent와 같은 최적화가 필요함\n",
        "    - Penalty Term : ||y - Xw||^2_2 + alpha * ||w||_1"
      ],
      "metadata": {
        "id": "EgbNC2UkkSPp"
      }
    },
    {
      "cell_type": "markdown",
      "source": [
        "### Using For-Loop"
      ],
      "metadata": {
        "id": "6PJPlxF-lXHp"
      }
    },
    {
      "cell_type": "code",
      "source": [
        "penelty = [0.0000001, 0.0000005, 0.000001, 0.000005,0.00001, 0.00005, 0.0001, 0.001, 0.01, 0.02, 0.03, 0.04]\n",
        "\n",
        "for a in penelty:\n",
        "    model = Lasso(alpha=a).fit(X_scale.iloc[train_idx], Y.iloc[train_idx])\n",
        "    score = model.score(X_scale.iloc[valid_idx], Y.iloc[valid_idx])\n",
        "    pred_y = model.predict(X_scale.iloc[valid_idx])\n",
        "    mse = mean_squared_error(Y.iloc[valid_idx], pred_y)\n",
        "    print(f'Alpha : {a:.7f}, R2: {score:.7f}, MSE: {mse:.7f}, RMSE: {np.sqrt(mse):.7f}')\n",
        "\n",
        "# lambda가 0.02일 때 R2가 가장 높고 에러가 가장 낮음"
      ],
      "metadata": {
        "colab": {
          "base_uri": "https://localhost:8080/"
        },
        "id": "nnU2iDiZjgUr",
        "outputId": "51957d83-f28b-42e1-e1a6-42c0c07a562b"
      },
      "execution_count": null,
      "outputs": [
        {
          "output_type": "stream",
          "name": "stdout",
          "text": [
            "Alpha : 0.0000001, R2: 0.5301651, MSE: 3084.6122329, RMSE: 55.5392855\n",
            "Alpha : 0.0000005, R2: 0.5301651, MSE: 3084.6121132, RMSE: 55.5392844\n",
            "Alpha : 0.0000010, R2: 0.5301652, MSE: 3084.6119624, RMSE: 55.5392831\n",
            "Alpha : 0.0000050, R2: 0.5301653, MSE: 3084.6107549, RMSE: 55.5392722\n",
            "Alpha : 0.0000100, R2: 0.5301656, MSE: 3084.6092464, RMSE: 55.5392586\n",
            "Alpha : 0.0000500, R2: 0.5301674, MSE: 3084.5972157, RMSE: 55.5391503\n",
            "Alpha : 0.0001000, R2: 0.5301697, MSE: 3084.5822667, RMSE: 55.5390157\n",
            "Alpha : 0.0010000, R2: 0.5302081, MSE: 3084.3301897, RMSE: 55.5367463\n",
            "Alpha : 0.0100000, R2: 0.5304264, MSE: 3082.8971348, RMSE: 55.5238429\n",
            "Alpha : 0.0200000, R2: 0.5306024, MSE: 3081.7414647, RMSE: 55.5134350\n",
            "Alpha : 0.0300000, R2: 0.5304378, MSE: 3082.8220339, RMSE: 55.5231666\n",
            "Alpha : 0.0400000, R2: 0.5300232, MSE: 3085.5438451, RMSE: 55.5476718\n"
          ]
        }
      ]
    },
    {
      "cell_type": "code",
      "source": [
        "model_best = Lasso(alpha=0.02).fit(X_scale.iloc[train_idx], Y.iloc[train_idx])\n",
        "summary(model_best, X_scale.iloc[valid_idx], Y.iloc[valid_idx], xlabels=X.columns)\n",
        "\n",
        "# BMI, BP, S5에 대해 scale 하지 않은 데이터로 Linear Regression 돌려보"
      ],
      "metadata": {
        "colab": {
          "base_uri": "https://localhost:8080/"
        },
        "id": "Lf6u7V4Llbjw",
        "outputId": "4168b5ca-076c-4ccc-8c6d-c00724eb1bbf"
      },
      "execution_count": null,
      "outputs": [
        {
          "output_type": "stream",
          "name": "stdout",
          "text": [
            "Coefficients:\n",
            "              Estimate                  Std. Error         t value   p value\n",
            "_intercept    4.144976  3.802265e+08+0.000000e+00j  0.0000-0.0000j  1.000000\n",
            "AGE         -13.359132  2.349221e+01+0.000000e+00j -0.5687+0.0000j  0.570552\n",
            "BMI         127.876677  3.167722e+01-0.000000e+00j  4.0369+0.0000j  0.000091\n",
            "BP           66.897382  2.787381e+01-0.000000e+00j  2.4000+0.0000j  0.017790\n",
            "S1         -153.025383  1.633934e+02-0.000000e+00j -0.9365-0.0000j  0.350703\n",
            "S2          102.155001  1.150830e+02+0.000000e+00j  0.8877-0.0000j  0.376336\n",
            "S3          -10.583686  7.271986e+01+0.000000e+00j -0.1455+0.0000j  0.884506\n",
            "S4            9.263867  5.710492e+01+0.000000e+00j  0.1622-0.0000j  0.871376\n",
            "S5          181.017864  5.000613e+01-0.000000e+00j  3.6199+0.0000j  0.000419\n",
            "S6           18.390761  3.387344e+01+0.000000e+00j  0.5429-0.0000j  0.588096\n",
            "SEX_1        20.777166  3.802265e+08-0.000000e+00j  0.0000+0.0000j  1.000000\n",
            "SEX_2        -0.000000  3.802265e+08-0.000000e+00j -0.0000-0.0000j  1.000000\n",
            "---\n",
            "R-squared:  0.530602,    Adjusted R-squared:  0.487930,    MSE: 3081.7\n"
          ]
        }
      ]
    },
    {
      "cell_type": "code",
      "source": [
        "# Cross Validation for LASSO\n",
        "lasso_cv=LassoCV(alphas=penelty, cv=5)\n",
        "model = lasso_cv.fit(X_scale.iloc[train_idx], Y.iloc[train_idx])\n",
        "print(f'Best Alpha : {model.alpha_:.7f}')"
      ],
      "metadata": {
        "colab": {
          "base_uri": "https://localhost:8080/"
        },
        "id": "ARNr-VyImIn8",
        "outputId": "4004400d-b523-40fa-e192-6873ab27bf2d"
      },
      "execution_count": null,
      "outputs": [
        {
          "output_type": "stream",
          "name": "stdout",
          "text": [
            "Best Alpha : 0.0400000\n"
          ]
        }
      ]
    },
    {
      "cell_type": "code",
      "source": [
        "# GridSearchCV Result\n",
        "model_best = Lasso(alpha=model.alpha_).fit(X_scale.iloc[train_idx], Y.iloc[train_idx])\n",
        "score = model_best.score(X_scale.iloc[valid_idx], Y.iloc[valid_idx])\n",
        "pred_y = model_best.predict(X_scale.iloc[valid_idx])\n",
        "mse = np.sqrt(mean_squared_error(Y.iloc[valid_idx], pred_y))\n",
        "print(f\"Alpha :{0.01:.5f}, R2 : {score:.7f}, MSE : {mse:.7f}, RMSE : {np.sqrt(mse):.7f}\")\n",
        "summary(model_best, X_scale.iloc[valid_idx], Y.iloc[valid_idx], xlabels=X_scale.columns)"
      ],
      "metadata": {
        "colab": {
          "base_uri": "https://localhost:8080/"
        },
        "id": "7kT6SpNZm9T0",
        "outputId": "0c176259-8041-4cd4-a21e-1ead84adeb8e"
      },
      "execution_count": null,
      "outputs": [
        {
          "output_type": "stream",
          "name": "stdout",
          "text": [
            "Alpha :0.01000, R2 : 0.5300232, MSE : 55.5476718, RMSE : 7.4530310\n",
            "Coefficients:\n",
            "              Estimate                  Std. Error         t value   p value\n",
            "_intercept   21.394535  3.804610e+08+4.014680e+00j  0.0000-0.0000j  1.000000\n",
            "AGE         -12.257581  2.338128e+01+7.188580e-01j -0.5238+0.0161j  0.601157\n",
            "BMI         128.605286  3.183205e+01+1.917690e-01j  4.0400-0.0243j  0.000090\n",
            "BP           66.620187  2.814122e+01+5.408370e-01j  2.3665-0.0455j  0.019390\n",
            "S1          -76.209202  1.637462e+02+4.365610e-01j -0.4654+0.0012j  0.642406\n",
            "S2           42.479334  1.152163e+02+2.141600e-01j  0.3687-0.0007j  0.712949\n",
            "S3          -43.437386  7.276161e+01+3.111610e-01j -0.5970+0.0026j  0.551545\n",
            "S4            2.391818  5.722290e+01+1.947690e-01j  0.0418-0.0001j  0.966723\n",
            "S5          154.680886  5.030175e+01+5.204870e-01j  3.0747-0.0318j  0.002560\n",
            "S6           17.493148  3.409148e+01+6.263920e-01j  0.5130-0.0094j  0.608783\n",
            "SEX_1        20.663264  3.804610e+08-9.033950e-01j  0.0000+0.0000j  1.000000\n",
            "SEX_2        -0.000000  3.804610e+08+1.848276e+00j -0.0000+0.0000j  1.000000\n",
            "---\n",
            "R-squared:  0.530023,    Adjusted R-squared:  0.487298,    MSE: 3085.5\n"
          ]
        }
      ]
    },
    {
      "cell_type": "code",
      "source": [],
      "metadata": {
        "id": "Wfs1PSsZnEYJ"
      },
      "execution_count": null,
      "outputs": []
    }
  ]
}